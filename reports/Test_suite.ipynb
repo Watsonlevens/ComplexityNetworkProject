{
 "cells": [
  {
   "cell_type": "markdown",
   "metadata": {},
   "source": [
    "### The Emergence of Cooperation in the Spatial Prisoner's Dilemma and Snowdrift Dilemma\n",
    "Noah Rivkin and Changjun Lim"
   ]
  },
  {
   "cell_type": "code",
   "execution_count": 53,
   "metadata": {
    "collapsed": false
   },
   "outputs": [
    {
     "name": "stdout",
     "output_type": "stream",
     "text": [
      "dict_values([4, 4, 4, 4, 4, 4, 4, 4, 4, 4, 4, 4, 4, 4, 4, 4, 4, 4, 4, 4, 4, 4, 4, 4, 4, 4, 4, 4, 4, 4, 4, 4, 4, 4, 4, 4, 4, 4, 4, 4, 4, 4, 4, 4, 4, 4, 4, 4, 4, 4, 4, 4, 4, 4, 3, 3, 2, 1, 2, 3])\n"
     ]
    }
   ],
   "source": [
    "import networkx as nx\n",
    "import numpy as np\n",
    "import random\n",
    "\n",
    "\n",
    "class SpatialNetwork():\n",
    "    def __init__(self, n, k, graph_type='regular', dep = None, snowdrift=False):\n",
    "        \"\"\"creates spatial network\"\"\"\n",
    "        self.n = n\n",
    "        self.k = k\n",
    "        self.dep = dep\n",
    "        self.G = self.create_graph(graph_type)\n",
    "\n",
    "    def create_graph(self, graph_type):\n",
    "        if graph_type == 'lattice':\n",
    "            return self.create_lattice()\n",
    "        if graph_type == 'rewired_lattice':\n",
    "            G = self.create_lattice()\n",
    "            return self.rewire(G, p=.3, k=4)\n",
    "        elif graph_type == 'powerlaw':\n",
    "            return nx.powerlaw_cluster_graph(self.n, self.k, 0)\n",
    "        elif graph_type == 'HK':\n",
    "            if self.dep != None:\n",
    "                return nx.powerlaw_cluster_graph(self.n, self.k, self.dep)\n",
    "            else:\n",
    "                return nx.powerlaw_cluster_graph(self.n, self.k, .3)\n",
    "        G = self.create_regular()\n",
    "        if graph_type == 'regular':\n",
    "            return G\n",
    "        elif graph_type == 'WS':\n",
    "            return self.rewire(G, p=.3, k=self.k)\n",
    "        elif graph_type == 'random':\n",
    "            return self.rewire(G, p=1, k=self.k)\n",
    "        else:\n",
    "            raise ValueError('not a recognized graph type')\n",
    "\n",
    "    def create_regular(self):\n",
    "        \"\"\"\n",
    "        creates regular graph. Is a helper function for rewired graphs. Some\n",
    "        code taken from/based on jupyter notebook chap3, credit to Allen Downey\n",
    "        \"\"\"\n",
    "        G = nx.Graph()\n",
    "        quo, rem = divmod(self.k, 2)\n",
    "        nodes = list(range(self.n))\n",
    "        G.add_nodes_from(nodes)\n",
    "        G.add_edges_from(adjacent_edges(nodes, quo))\n",
    "        # if k is odd, add opposite edges\n",
    "        if rem:\n",
    "            if self.n%2:\n",
    "                msg = \"Can't make a regular graph if n and k are odd.\"\n",
    "                raise ValueError(msg)\n",
    "            G.add_edges_from(opposite_edges())\n",
    "        return G\n",
    "\n",
    "    def create_lattice(self):\n",
    "        \"\"\"\n",
    "        creates a lattice graph with n nodes that is k long\n",
    "        \"\"\"\n",
    "        G = nx.Graph()\n",
    "        nodes = list(range(self.n))\n",
    "        G.add_nodes_from(nodes)\n",
    "        for node in nodes:\n",
    "            if node + self.k in nodes:\n",
    "                G.add_edge(node, node + self.k)\n",
    "            if node % self.k != (self.k-1) and node + 1 in nodes:\n",
    "                G.add_edge(node, node + 1)\n",
    "        return G\n",
    "\n",
    "    def rewire(self, G, p, k):\n",
    "        \"\"\"Rewires each edge with probability `p`.\n",
    "        code taken from/based on jupyter notebook chap3, credit to Allen Downey\n",
    "        G: Graph\n",
    "        p: float\n",
    "        \"\"\"\n",
    "        if self.dep != None:\n",
    "            p = self.dep\n",
    "        rewire_num = p*k*self.n/2\n",
    "        chosen = []\n",
    "        nodes_down = []\n",
    "        for _ in range(int(rewire_num - .5)): # int rounds down, so it removes right number\n",
    "            edge = random.choice(list(G.edges))\n",
    "            u, v = edge\n",
    "            G.remove_edge(u, v)\n",
    "            chosen.append((u,v))\n",
    "            nodes_down.append(u)\n",
    "            nodes_down.append(v)\n",
    "        node_list = list(G.nodes)\n",
    "        np.random.shuffle(node_list)\n",
    "        need_replace = set([node for node in node_list if len(list(G.neighbors(node))) < k])\n",
    "        while len(need_replace) > 1:\n",
    "            start = next(iter(need_replace))\n",
    "            found = False\n",
    "            pos1 = ()\n",
    "            for node in need_replace:\n",
    "                if not found:\n",
    "                    pos1 = (start, node)\n",
    "                    pos2 = (node, start)\n",
    "                    if start != node and pos1 not in G.edges and pos2 not in G.edges and pos1 not in chosen \\\n",
    "                    and pos2 not in chosen:\n",
    "                        found = True\n",
    "                        G.add_edge(start, node)\n",
    "            if found == False:\n",
    "                need_replace.remove(start)\n",
    "            need_replace = need_replace - set([node for node in pos1 if len(list(G.neighbors(node))) >= k])\n",
    "        return G\n",
    "\n",
    "    \n",
    "def adjacent_edges(nodes, halfk):\n",
    "    \"\"\"\n",
    "    code taken from/based on jupyter notebook chap3, credit to Allen Downey\n",
    "    \"\"\"\n",
    "    n = len(nodes)\n",
    "    for i, u in enumerate(nodes):\n",
    "        for j in range(i+1, i+halfk+1):\n",
    "            v = nodes[j % n]\n",
    "            yield u, v\n",
    "\n",
    "def opposite_edges(nodes):\n",
    "    \"\"\"Enumerates edges that connect opposite nodes.\n",
    "    code taken from/based on jupyter notebook chap3, credit to Allen Downey\n",
    "    \"\"\"\n",
    "    n = len(nodes)\n",
    "    for i, u in enumerate(nodes):\n",
    "        j = i + n//2\n",
    "        v = nodes[j % n]\n",
    "        yield u, v\n",
    "        \n",
    "local_test = SpatialNetwork(60,4,graph_type='random')\n",
    "\n",
    "labels = {}\n",
    "for node in local_test.G.nodes():\n",
    "    labels[node] = len(list(local_test.G.neighbors(node)))\n",
    "\n",
    "print(labels.values())"
   ]
  },
  {
   "cell_type": "code",
   "execution_count": 4,
   "metadata": {
    "collapsed": true
   },
   "outputs": [],
   "source": [
    "class Node:\n",
    "    C, D = 1, 0\n",
    "    T, R, P, S = 3, 1, 0, 0\n",
    "\n",
    "    def __init__(self, state: str):\n",
    "        \"\"\"\n",
    "        node object in graph. state is C or D\n",
    "        \"\"\"\n",
    "        self.state = state\n",
    "        self.score = 0  # will hold value calculated based on prisoners dilemma\n",
    "\n",
    "    @classmethod\n",
    "    def is_cooperator_state(cls, state):\n",
    "        return state == cls.C\n",
    "\n",
    "    def is_cooperator(self):\n",
    "        return self.is_cooperator_state(self.state)\n",
    "\n",
    "    def add_score(self, score: int):\n",
    "        self.score += score\n",
    "\n",
    "    def reset_score(self):\n",
    "        self.score = 0\n",
    "\n",
    "    # Play a single PD with neighbors, and calculate score\n",
    "    #  neighbors: The list of Node object\n",
    "    def play_pd(self, neighbors):\n",
    "        self.reset_score()\n",
    "        neighbor_scores = [neighbor.state for neighbor in neighbors]\n",
    "        self.add_score(self.pd_scores(neighbor_scores))\n",
    "        #for neighbor in neighbors:\n",
    "        #    self.add_score(self.pd_score(neighbor.state))\n",
    "\n",
    "    # calculate single PDs scores for a node.\n",
    "    def pd_scores(self, scores):\n",
    "        num = len(scores)\n",
    "        cnum = sum(scores)\n",
    "        if self.is_cooperator():\n",
    "            return cnum * Node.R + (num - cnum) * Node.S\n",
    "        else:\n",
    "            return cnum * Node.T + (num - cnum) * Node.P    \n",
    "        \n",
    "    # play single PD\n",
    "    # not used\n",
    "    def pd_score(self, neighbor_state):\n",
    "        if self.is_cooperator():\n",
    "            if self.is_cooperator_state(neighbor_state):\n",
    "                return Node.R\n",
    "            return Node.S\n",
    "        else:\n",
    "            if self.is_cooperator_state(neighbor_state):\n",
    "                return Node.T\n",
    "            return Node.P\n",
    "\n",
    "    # Copy the state of the most successful neighbor\n",
    "    def get_max_state(self, neighbors):\n",
    "        neighbors.append(self)\n",
    "        max_score = max([neighbor.score for neighbor in neighbors])\n",
    "        self.max_state = [neighbor.state for neighbor in neighbors if neighbor.score == max_score]\n",
    "    \n",
    "    def update_state(self):\n",
    "        self.state = self.max_state[0]\n",
    "        \n",
    "    @classmethod\n",
    "    def change_rule(cls, T, R, P, S):\n",
    "        cls.T, cls.R, cls.P, cls.S = T, R, P, S"
   ]
  },
  {
   "cell_type": "code",
   "execution_count": 5,
   "metadata": {
    "collapsed": false
   },
   "outputs": [],
   "source": [
    "import random\n",
    "import matplotlib.pyplot as plt\n",
    "import numpy as np\n",
    "\n",
    "class TestBench:\n",
    "    def __init__(self, n, k, graph_type, c0, p=None, N=100, M=10):\n",
    "        self.n = n # the number of nodes\n",
    "        self.graph = SpatialNetwork(n, k, graph_type, dep=p).G\n",
    "        self.c0 = c0 # initial cooperator ratio\n",
    "        self.N = N # the number of steps\n",
    "        self.M = M # the number of test\n",
    "        self.ratio = list()\n",
    "        self.nodes = list()\n",
    "        self.initialize()\n",
    "    \n",
    "    def initialize(self):\n",
    "        cooperators = random.sample(range(self.n), int(self.n * self.c0))\n",
    "        self.nodes = [Node(Node.C) if i in cooperators else Node(Node.D) for i in range(self.n)]\n",
    "        self.ratio = list()\n",
    "    \n",
    "    def step(self):\n",
    "        # play a single PD\n",
    "        for i in range(self.n):\n",
    "            neighbor = [self.nodes[key] for key in self.graph[i]]\n",
    "            self.nodes[i].play_pd(neighbor)\n",
    "\n",
    "        # get the highest neighbors' state\n",
    "        for i in range(self.n):\n",
    "            neighbor = [self.nodes[key] for key in self.graph[i]]\n",
    "            self.nodes[i].get_max_state(neighbor)\n",
    "\n",
    "        # update the state\n",
    "        for i in range(self.n):\n",
    "            self.nodes[i].update_state()\n",
    "\n",
    "        c_ratio = len([node for node in self.nodes if node.is_cooperator()]) / self.n\n",
    "        self.ratio.append(c_ratio)\n",
    "    \n",
    "    def iterate(self):\n",
    "        ratios = np.zeros((self.M, self.N))\n",
    "        for i in range(self.M):\n",
    "            self.initialize()\n",
    "            for _ in range(self.N):\n",
    "                self.step()\n",
    "            ratios[i] = self.ratio\n",
    "        self.ratio = np.average(ratios, axis=0)\n",
    "            \n",
    "    def draw(self):\n",
    "        x = range(1, len(self.ratio)+1)\n",
    "        plt.plot(x, self.ratio*100)\n",
    "        plt.xlabel('time')\n",
    "        plt.ylabel('% C')\n",
    "        plt.ylim(0,100)\n",
    "        plt.show()\n",
    "        \n",
    "def time_ratio_graph(n, k, graph_type, c0, N, p=None, M=10, T=1, R=0.25, P=0, S=0):\n",
    "    Node.change_rule(T, R, P, S)\n",
    "    bench = TestBench(n, k, graph_type, c0, p, N, M)\n",
    "    bench.iterate()\n",
    "    bench.draw()\n",
    "    \n",
    "def T_ratio_graph(n, k, graph_type, c0, N=100, p=None, M=10, T_min = 1, T_max = 2.5, T_steps = 16, R=1, P=0, S=0):\n",
    "    ratios = []\n",
    "    T_values = []\n",
    "    for T in np.linspace(T_min, T_max, T_steps):\n",
    "        Node.change_rule(T, R, P, S)\n",
    "        bench = TestBench(n, k, graph_type, c0, p, N, M)\n",
    "        bench.iterate()\n",
    "        ratios.append((bench.ratio[len(bench.ratio) - 1] * 100))\n",
    "        T_values.append(T)\n",
    "    plt.plot(T_values,ratios)\n",
    "    plt.xlabel('T')\n",
    "    plt.ylabel('% C')\n",
    "    plt.ylim(0,100)\n",
    "    plt.show()\n",
    "    "
   ]
  },
  {
   "cell_type": "markdown",
   "metadata": {},
   "source": [
    "The proportion of cooperators in the spatial PD with d=1(regular graph)\n",
    "(Fig 2 in paper)"
   ]
  },
  {
   "cell_type": "code",
   "execution_count": 24,
   "metadata": {
    "collapsed": false,
    "scrolled": true
   },
   "outputs": [
    {
     "data": {
      "image/png": "[encoded data removed]",
      "text/plain": [
       "<matplotlib.figure.Figure at 0x7f279073a2b0>"
      ]
     },
     "metadata": {},
     "output_type": "display_data"
    }
   ],
   "source": [
    "time_ratio_graph(n=3600, k=8, graph_type='WS', c0=0.98, N=200, M=1, T=1.99, R=1, P=0, S=0)\n",
    "#time_ratio_graph(n=3600, k=8, graph_type='regular', c0=0.98, N=150, M=1, T=2, R=1, P=0, S=0)\n",
    "#time_ratio_graph(n=3600, k=8, graph_type='regular', c0=0.98, N=150, M=1, T=2.1, R=1, P=0, S=0)"
   ]
  },
  {
   "cell_type": "markdown",
   "metadata": {},
   "source": [
    "The proportion of cooperators in the spatial PD with d=2(lattice graph)\n",
    "(Fig 2 in paper)"
   ]
  },
  {
   "cell_type": "code",
   "execution_count": 5,
   "metadata": {
    "collapsed": false,
    "scrolled": true
   },
   "outputs": [
    {
     "data": {
      "image/png": "[encoded data removed]",
      "text/plain": [
       "<matplotlib.figure.Figure at 0x7f763bd12e10>"
      ]
     },
     "metadata": {},
     "output_type": "display_data"
    },
    {
     "data": {
      "image/png": "[encoded data removed]",
      "text/plain": [
       "<matplotlib.figure.Figure at 0x7f763b993f28>"
      ]
     },
     "metadata": {},
     "output_type": "display_data"
    }
   ],
   "source": [
    "time_ratio_graph(n=3600, k=60, graph_type='lattice', c0=0.98, N=150, M=2, T=1.999, R=1, P=0, S=0)\n",
    "time_ratio_graph(n=3600, k=60, graph_type='lattice', c0=0.98, N=150, M=2, T=2, R=1, P=0, S=0)\n",
    "#time_ratio_graph(n=3600, k=60, graph_type='lattice', c0=0.98, N=150, M=2, T=2.01, R=1, P=0, S=0)"
   ]
  },
  {
   "cell_type": "code",
   "execution_count": null,
   "metadata": {
    "collapsed": false
   },
   "outputs": [
    {
     "data": {
      "image/png": "[encoded data removed]",
      "text/plain": [
       "<matplotlib.figure.Figure at 0x7fa49c0fd518>"
      ]
     },
     "metadata": {},
     "output_type": "display_data"
    },
    {
     "data": {
      "image/png": "[encoded data removed]",
      "text/plain": [
       "<matplotlib.figure.Figure at 0x7fa49c6185f8>"
      ]
     },
     "metadata": {},
     "output_type": "display_data"
    }
   ],
   "source": [
    "T_ratio_graph(n=3600, k=8, graph_type='regular', c0=0.98, N=100, M=1, T_min= 1, T_max = 2.5, T_steps= 16, \\\n",
    "                 R=1, P=0, S=0)\n",
    "T_ratio_graph(n=3600, k=8, graph_type='WS', c0=0.98, N=100, p=.01, M=1, T_min= 1, T_max = 2.5, T_steps= 16, \\\n",
    "                 R=1, P=0, S=0)\n",
    "T_ratio_graph(n=3600, k=8, graph_type='WS', c0=0.98, N=100, p=.9, M=1, T_min= 1, T_max = 2.5, T_steps= 16, \\\n",
    "                 R=1, P=0, S=0)"
   ]
  },
  {
   "cell_type": "code",
   "execution_count": 82,
   "metadata": {
    "collapsed": false
   },
   "outputs": [
    {
     "data": {
      "image/png": "[encoded data removed]",
      "text/plain": [
       "<matplotlib.figure.Figure at 0x7fa49c0e8c18>"
      ]
     },
     "metadata": {},
     "output_type": "display_data"
    },
    {
     "data": {
      "image/png": "[encoded data removed]",
      "text/plain": [
       "<matplotlib.figure.Figure at 0x7fa4a0c58240>"
      ]
     },
     "metadata": {},
     "output_type": "display_data"
    },
    {
     "data": {
      "image/png": "[encoded data removed]",
      "text/plain": [
       "<matplotlib.figure.Figure at 0x7fa4a0c7f668>"
      ]
     },
     "metadata": {},
     "output_type": "display_data"
    }
   ],
   "source": [
    "T_ratio_graph(n=3600, k=60, graph_type='lattice', c0=0.98, N=50, M=1, T_min= 1, T_max = 2.5, T_steps= 31, \\\n",
    "                 R=1, P=0, S=0)\n",
    "T_ratio_graph(n=3600, k=60, graph_type='rewired_lattice', c0=0.98, N=100, p=.01, M=1, T_min= 1, T_max = 2.5, \\\n",
    "              T_steps= 16, R=1, P=0, S=0)\n",
    "T_ratio_graph(n=3600, k=60, graph_type='rewired_lattice', c0=0.98, N=100, p=.9, M=1, T_min= 1, T_max = 2.5, \\\n",
    "              T_steps= 16, R=1, P=0, S=0)"
   ]
  },
  {
   "cell_type": "code",
   "execution_count": 55,
   "metadata": {
    "collapsed": false
   },
   "outputs": [
    {
     "name": "stdout",
     "output_type": "stream",
     "text": [
      "dict_values([8, 8, 8, 8, 8, 8, 8, 8, 8, 8, 8, 8, 8, 8, 8, 8, 8, 8, 8, 8, 8, 8, 8, 8, 8, 8, 8, 8, 8, 8, 8, 8, 8, 8, 8, 8, 8, 8, 8, 8, 8, 8, 8, 8, 8, 8, 8, 8, 8, 8, 8, 8, 8, 8, 8, 8, 8, 8, 8, 8, 8, 8, 8, 8, 8, 8, 8, 8, 8, 8, 8, 8, 8, 8, 8, 8, 8, 8, 8, 8, 8, 8, 8, 8, 8, 8, 8, 8, 8, 8, 8, 8, 6, 6, 4, 2, 8, 8, 8, 8])\n"
     ]
    }
   ],
   "source": [
    "from __future__ import print_function, division\n",
    "\n",
    "%matplotlib inline\n",
    "%precision 3\n",
    "\n",
    "import warnings\n",
    "warnings.filterwarnings('ignore')\n",
    "\n",
    "import matplotlib.pyplot as plt\n",
    "\n",
    "d_or_c = {0:'D',1:'C'}\n",
    "\n",
    "# colors from our friends at http://colorbrewer2.org\n",
    "COLORS = dict([(1,'#00ff00'),(0,'#0000ff')])\n",
    "\n",
    "bench = TestBench(100, 8, 'WS', p =.9, c0=.9, N=10, M=10)\n",
    "\n",
    "labels = {}\n",
    "for i in range(bench.n):\n",
    "    labels[i] = len(list(bench.graph.neighbors(i)))\n",
    "\n",
    "print(labels.values())\n",
    "    \n",
    "\n",
    "# nx.draw_circular(bench.graph,\n",
    "#                  node_color=COLORS[1],\n",
    "#                  node_size=400,\n",
    "#                  with_labels=True)\n",
    "\n",
    "\n",
    "# for _ in range(3):\n",
    "#     bench.step()\n",
    "\n",
    "#     labels = {}\n",
    "#     for i in range(bench.n):\n",
    "#         labels[i] = (d_or_c[bench.nodes[i].state], bench.nodes[i].score)\n",
    "    \n",
    "#     print(labels)"
   ]
  },
  {
   "cell_type": "code",
   "execution_count": null,
   "metadata": {
    "collapsed": true
   },
   "outputs": [],
   "source": []
  }
 ],
 "metadata": {
  "kernelspec": {
   "display_name": "Python 3",
   "language": "python",
   "name": "python3"
  },
  "language_info": {
   "codemirror_mode": {
    "name": "ipython",
    "version": 3
   },
   "file_extension": ".py",
   "mimetype": "text/x-python",
   "name": "python",
   "nbconvert_exporter": "python",
   "pygments_lexer": "ipython3",
   "version": "3.4.3"
  }
 },
 "nbformat": 4,
 "nbformat_minor": 2
}
